{
  "nbformat": 4,
  "nbformat_minor": 0,
  "metadata": {
    "colab": {
      "provenance": [],
      "include_colab_link": true
    },
    "kernelspec": {
      "name": "python3",
      "display_name": "Python 3"
    },
    "language_info": {
      "name": "python"
    }
  },
  "cells": [
    {
      "cell_type": "markdown",
      "metadata": {
        "id": "view-in-github",
        "colab_type": "text"
      },
      "source": [
        "<a href=\"https://colab.research.google.com/github/Jana-Alrzoog/2025_GP_28/blob/main/masar-sim/notebooks/masar_base_demand.ipynb\" target=\"_parent\"><img src=\"https://colab.research.google.com/assets/colab-badge.svg\" alt=\"Open In Colab\"/></a>"
      ]
    },
    {
      "cell_type": "markdown",
      "source": [
        "# 🟦 Masar Base Demand Generation Notebook\n",
        "\n",
        "This notebook **programmatically generates a standardized baseline demand curve** that models the normal daily passenger flow in Riyadh Metro.  \n",
        "It captures **typical weekday behavior** with predictable **morning and evening peaks**, creating a **normalized reference pattern** used as the foundation for all later simulations.\n",
        "\n",
        "---\n",
        "\n",
        "### 🎯 Purpose\n",
        "To build a reusable **baseline demand profile** that represents 24-hour passenger activity and serves as input for:\n",
        "- Weekly or monthly occupancy generation  \n",
        "- Event & holiday modifiers  \n",
        "- Real-time prediction and QA dashboards  \n",
        "\n",
        "---\n",
        "\n",
        "### ⚙️ Workflow\n",
        "1️⃣ Load configuration (`00_config.yaml`)  \n",
        "2️⃣ Generate Gaussian-based morning & evening peaks  \n",
        "3️⃣ Normalize and visualize the curve  \n",
        "4️⃣ Export as `base_day.csv` for later notebooks  \n",
        "\n",
        "---\n",
        "\n"
      ],
      "metadata": {
        "id": "9Q7iwGStlsWi"
      }
    },
    {
      "cell_type": "code",
      "execution_count": null,
      "metadata": {
        "id": "XNqaz-s-r0GV"
      },
      "outputs": [],
      "source": [
        "# ============================================================\n",
        "#  Masar Base Demand Generation Notebook\n",
        "# ============================================================\n",
        "import numpy as np\n",
        "import pandas as pd\n",
        "import matplotlib.pyplot as plt\n",
        "from datetime import datetime, timedelta\n",
        "import yaml, json"
      ]
    },
    {
      "cell_type": "code",
      "execution_count": null,
      "metadata": {
        "colab": {
          "base_uri": "https://localhost:8080/"
        },
        "id": "PeCI7KzqpYi6",
        "outputId": "9bc1b78d-e07c-49fd-adc5-d89e16fe64a7"
      },
      "outputs": [
        {
          "output_type": "stream",
          "name": "stdout",
          "text": [
            "Cloning into '2025_GP_28'...\n",
            "remote: Enumerating objects: 640, done.\u001b[K\n",
            "remote: Counting objects: 100% (155/155), done.\u001b[K\n",
            "remote: Compressing objects: 100% (148/148), done.\u001b[K\n",
            "remote: Total 640 (delta 81), reused 1 (delta 1), pack-reused 485 (from 1)\u001b[K\n",
            "Receiving objects: 100% (640/640), 4.45 MiB | 7.97 MiB/s, done.\n",
            "Resolving deltas: 100% (228/228), done.\n",
            "/content/2025_GP_28\n"
          ]
        }
      ],
      "source": [
        "!git clone https://github.com/Jana-Alrzoog/2025_GP_28.git\n",
        "%cd 2025_GP_28\n"
      ]
    },
    {
      "cell_type": "code",
      "source": [
        "# ============================================================\n",
        "# 1. Load Configuration Files\n",
        "# ============================================================\n",
        "\n",
        "seed_path = \"/content/2025_GP_28/masar-sim/data/seeds\"\n",
        "config_path = \"/content/2025_GP_28/masar-sim/sims/00_config.yaml\"\n",
        "\n",
        "with open(config_path) as f:\n",
        "    config = yaml.safe_load(f)\n",
        "\n",
        "with open(f\"{seed_path}/stations.json\") as f:\n",
        "    stations = json.load(f)\n",
        "\n",
        "print(f\"Loaded {len(stations)} stations\")"
      ],
      "metadata": {
        "colab": {
          "base_uri": "https://localhost:8080/"
        },
        "id": "moKRGv71sPdR",
        "outputId": "7a92a0a7-0b55-4e98-ab82-09ab16f22715"
      },
      "execution_count": null,
      "outputs": [
        {
          "output_type": "stream",
          "name": "stdout",
          "text": [
            "Loaded 6 stations\n"
          ]
        }
      ]
    },
    {
      "cell_type": "markdown",
      "source": [
        "This code defines the mathematical model for demand peaks. A gaussian ( or bell curve ) function is employed as it provides a smooth and realistic model for the gradual rise and fall of passenger volume during peak commute hours. A second function, base_demand_curve, combines multiple Gaussian curves to represent both the morning and evening peaks."
      ],
      "metadata": {
        "id": "dcZUzU46B-aa"
      }
    },
    {
      "cell_type": "code",
      "source": [
        "# ============================================================\n",
        "# 2. Gaussian-based Base Demand Function\n",
        "# ============================================================\n",
        "\n",
        "def gaussian(x, mu, sigma_h):\n",
        "    \"\"\"Return Gaussian value for minute-of-day\"\"\"\n",
        "    sigma = sigma_h * 60.0  # convert hours → minutes\n",
        "    return np.exp(-0.5 * ((x - mu) / sigma) ** 2)\n",
        "\n",
        "def base_demand_curve(minute_of_day, config):\n",
        "    \"\"\"Create combined morning + evening peaks + baseline\"\"\"\n",
        "    peaks = config[\"peaks\"]\n",
        "    base = 0.05  # constant small baseline\n",
        "    demand = base\n",
        "    for p in peaks:\n",
        "        mu = p[\"hour\"] * 60\n",
        "        sigma_h = p[\"sigma_hours\"]\n",
        "        demand += gaussian(minute_of_day, mu, sigma_h)\n",
        "    return demand"
      ],
      "metadata": {
        "id": "9MZBN6-MsG9P"
      },
      "execution_count": null,
      "outputs": []
    },
    {
      "cell_type": "markdown",
      "source": [
        "This function, generate_base_day, constructs the full 24-hour demand profile for a single station. It applies the mathematical model from Section 2 for each minute of the day. Crucially, it then normalizes the resulting curve by scaling its maximum value to 1.0, ensuring a consistent and comparable standard across all stations."
      ],
      "metadata": {
        "id": "xn2AFDj_CIec"
      }
    },
    {
      "cell_type": "code",
      "source": [
        "# ============================================================\n",
        "# 3. Generate Daily Curve (One Station Example)\n",
        "# ============================================================\n",
        "\n",
        "def generate_base_day(station_id, config):\n",
        "    \"\"\"Generate normalized base demand (0..~2.5) for one station\"\"\"\n",
        "    start = datetime(2025, 9, 24, 6, 0)\n",
        "\n",
        "    end   = datetime(2025, 9, 25, 0, 0)\n",
        "    times = pd.date_range(start, end, freq=\"1min\")\n",
        "\n",
        "    minutes = [t.hour * 60 + t.minute for t in times]\n",
        "    base_values = [base_demand_curve(m, config) for m in minutes]\n",
        "\n",
        "    df = pd.DataFrame({\n",
        "        \"timestamp\": times,\n",
        "        \"station_id\": station_id,\n",
        "        \"base_demand\": base_values\n",
        "    })\n",
        "\n",
        "    # Normalize so max = 1.0\n",
        "    df[\"base_demand_norm\"] = df[\"base_demand\"] / df[\"base_demand\"].max()\n",
        "    return df"
      ],
      "metadata": {
        "id": "s5phBOZFun0A"
      },
      "execution_count": null,
      "outputs": []
    },
    {
      "cell_type": "markdown",
      "source": [
        "Here shows a visual validation step. It runs the function from Section 3 for a single sample station and plots the resulting curve using matplotlib. This visual inspection allows for confirmation that the curve exhibits the expected bimodal (two-peak) distribution corresponding to morning and evening commutes."
      ],
      "metadata": {
        "id": "lC0JqX5BCV4-"
      }
    },
    {
      "cell_type": "code",
      "source": [
        " # 4. Plot Example\n",
        "# ============================================================\n",
        "\n",
        "example_station = \"S1\"\n",
        "df_example = generate_base_day(example_station, config)\n",
        "\n",
        "plt.figure(figsize=(10,4))\n",
        "plt.plot(df_example[\"timestamp\"], df_example[\"base_demand_norm\"], label=\"Normalized Base Demand\", color=\"royalblue\")\n",
        "plt.title(f\"Base Demand Curve - {example_station}\")\n",
        "plt.xlabel(\"Time of Day\")\n",
        "plt.ylabel(\"Normalized Demand (0–1)\")\n",
        "plt.grid(True, alpha=0.3)\n",
        "plt.legend()\n",
        "plt.show()"
      ],
      "metadata": {
        "id": "kD2yaPNJuwsQ",
        "outputId": "d9673cf8-ef7a-49ce-faf1-98d467a2feb0",
        "colab": {
          "base_uri": "https://localhost:8080/",
          "height": 410
        }
      },
      "execution_count": null,
      "outputs": [
        {
          "output_type": "display_data",
          "data": {
            "text/plain": [
              "<Figure size 1000x400 with 1 Axes>"
            ],
            "image/png": "[encoded data removed]"
          },
          "metadata": {}
        }
      ]
    },
    {
      "cell_type": "code",
      "source": [
        "\n",
        "# 5. Generate for All Stations\n",
        "# ============================================================\n",
        "\n",
        "all_df = []\n",
        "for st in stations:\n",
        "    sid = st[\"station_id\"]\n",
        "    df = generate_base_day(sid, config)\n",
        "    all_df.append(df)\n",
        "\n",
        "base_df = pd.concat(all_df, ignore_index=True)\n",
        "\n",
        "print(f\"Generated base demand for {len(stations)} stations, {len(base_df)} total records\")"
      ],
      "metadata": {
        "id": "NYsU6yKGvQSy",
        "outputId": "e817018e-cd05-422c-a72a-ddbbdf1248bc",
        "colab": {
          "base_uri": "https://localhost:8080/"
        }
      },
      "execution_count": null,
      "outputs": [
        {
          "output_type": "stream",
          "name": "stdout",
          "text": [
            "Generated base demand for 6 stations, 6486 total records\n"
          ]
        }
      ]
    },
    {
      "cell_type": "code",
      "source": [
        "# ============================================================\n",
        "# 6. Save the Base Demand to CSV\n",
        "# ============================================================\n",
        "\n",
        "ROOT = \"/content/2025_GP_28\"\n",
        "OUT_DIR = f\"{ROOT}/masar-sim/out\"\n",
        "OUT_PATH = f\"{OUT_DIR}/base_day.csv\"\n",
        "\n",
        "import os\n",
        "os.makedirs(OUT_DIR, exist_ok=True)\n",
        "\n",
        "base_df.to_csv(OUT_PATH, index=False, encoding=\"utf-8-sig\")\n",
        "\n",
        "print(f\"Saved base demand file: {OUT_PATH}\")\n",
        "print(f\"Shape: {base_df.shape[0]} rows × {base_df.shape[1]} columns\")"
      ],
      "metadata": {
        "colab": {
          "base_uri": "https://localhost:8080/"
        },
        "id": "aB8D8t0SmzhF",
        "outputId": "6b69361f-bc8f-46ba-a9b4-bef2d59e90c3"
      },
      "execution_count": null,
      "outputs": [
        {
          "output_type": "stream",
          "name": "stdout",
          "text": [
            "Saved base demand file: /content/2025_GP_28/masar-sim/out/base_day.csv\n",
            "Shape: 6486 rows × 4 columns\n"
          ]
        }
      ]
    }
  ]
}