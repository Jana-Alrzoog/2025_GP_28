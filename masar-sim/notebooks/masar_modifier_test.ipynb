{
  "nbformat": 4,
  "nbformat_minor": 0,
  "metadata": {
    "colab": {
      "provenance": [],
      "include_colab_link": true
    },
    "kernelspec": {
      "name": "python3",
      "display_name": "Python 3"
    },
    "language_info": {
      "name": "python"
    }
  },
  "cells": [
    {
      "cell_type": "markdown",
      "metadata": {
        "id": "view-in-github",
        "colab_type": "text"
      },
      "source": [
        "<a href=\"https://colab.research.google.com/github/Jana-Alrzoog/2025_GP_28/blob/main/masar-sim/notebooks/masar_modifier_test.ipynb\" target=\"_parent\"><img src=\"https://colab.research.google.com/assets/colab-badge.svg\" alt=\"Open In Colab\"/></a>"
      ]
    },
    {
      "cell_type": "markdown",
      "source": [
        "# 🟩 Masar Demand Modifier Notebook\n",
        "\n",
        "This notebook defines and validates the logic for **computing demand modifiers** — numerical factors that adjust the baseline demand curve based on external influences.  \n",
        "Instead of generating demand directly, this notebook produces a **multiplier** that reflects how much the passenger flow is expected to increase or decrease under different conditions.\n",
        "\n",
        "---\n",
        "\n",
        "### 🎯 Purpose\n",
        "To create **scalable modifier functions** that adjust the baseline demand curve according to:\n",
        "- Station attributes (capacity, type, and location)\n",
        "- Temporal factors (weekday vs. weekend)\n",
        "- Environmental factors (weather conditions)\n",
        "- Scheduled events (public holidays, special occasions)\n",
        "\n",
        "---\n",
        "\n",
        "### ⚙️ Workflow\n",
        "1️⃣ Load configuration and seed files (`calendar_events.csv`, `holidays.csv`)  \n",
        "2️⃣ Define modifier logic per category (station, temporal, event, environment)  \n",
        "3️⃣ Combine modifiers into one unified multiplier  \n",
        "4️⃣ Export as `modifiers.csv` for use in occupancy generation notebooks"
      ],
      "metadata": {
        "id": "FoPGFoWu7yWO"
      }
    },
    {
      "cell_type": "code",
      "execution_count": 2,
      "metadata": {
        "colab": {
          "base_uri": "https://localhost:8080/"
        },
        "id": "PeCI7KzqpYi6",
        "outputId": "1aba53ab-8fb8-45b1-fb97-f6d7b9940bee"
      },
      "outputs": [
        {
          "output_type": "stream",
          "name": "stdout",
          "text": [
            "Cloning into '2025_GP_28'...\n",
            "remote: Enumerating objects: 657, done.\u001b[K\n",
            "remote: Counting objects: 100% (172/172), done.\u001b[K\n",
            "remote: Compressing objects: 100% (165/165), done.\u001b[K\n",
            "remote: Total 657 (delta 89), reused 1 (delta 1), pack-reused 485 (from 1)\u001b[K\n",
            "Receiving objects: 100% (657/657), 4.57 MiB | 9.15 MiB/s, done.\n",
            "Resolving deltas: 100% (236/236), done.\n",
            "/content/2025_GP_28\n"
          ]
        }
      ],
      "source": [
        "!git clone https://github.com/Jana-Alrzoog/2025_GP_28.git\n",
        "%cd 2025_GP_28\n"
      ]
    },
    {
      "cell_type": "code",
      "source": [
        "import yaml, json, csv\n",
        "from datetime import datetime\n",
        "\n",
        "seed_path = \"/content/2025_GP_28/masar-sim/data/seeds\"\n",
        "config_path = \"/content/2025_GP_28/masar-sim/sims/00_config.yaml\"\n",
        "\n",
        "with open(config_path) as f:\n",
        "    config = yaml.safe_load(f)\n",
        "\n",
        "seeds = {}\n",
        "with open(f\"{seed_path}/stations.json\") as f:\n",
        "    seeds[\"stations\"] = json.load(f)\n",
        "with open(f\"{seed_path}/weather_patterns.json\") as f:\n",
        "    seeds[\"weather\"] = json.load(f)\n",
        "with open(f\"{seed_path}/calendar_events.csv\") as f:\n",
        "    seeds[\"events\"] = list(csv.DictReader(f))\n",
        "\n",
        "\n",
        "print(\" Loaded successfully\")\n",
        "print(\"Stations:\", len(seeds[\"stations\"]))\n",
        "print(\"Events:\", len(seeds[\"events\"]))\n"
      ],
      "metadata": {
        "colab": {
          "base_uri": "https://localhost:8080/"
        },
        "id": "V8jSlT2cL4DW",
        "outputId": "1a6e7cf9-a041-46bc-c1da-627566c7124d"
      },
      "execution_count": 3,
      "outputs": [
        {
          "output_type": "stream",
          "name": "stdout",
          "text": [
            " Loaded successfully\n",
            "Stations: 6\n",
            "Events: 21\n"
          ]
        }
      ]
    },
    {
      "cell_type": "markdown",
      "source": [
        "Here is the main function that integrates all variables to produce the final modifier. It accepts a timestamp and station identifier as input, calculates the individual multipliers for each factor (weekend, weather, event, holiday), and then computes their product to capture the cumulative effect. The function returns a dictionary containing the final computed modifie"
      ],
      "metadata": {
        "id": "_C6d16hV88gA"
      }
    },
    {
      "cell_type": "code",
      "source": [
        "import re\n",
        "import pandas as pd\n",
        "\n",
        "# ---------- Helper functions ----------\n",
        "\n",
        "def _match_station(sta, key):\n",
        "    \"\"\"Check if a given key matches station_id or code.\"\"\"\n",
        "    k = str(key).upper()\n",
        "    return str(sta.get(\"station_id\", \"\")).upper() == k or str(sta.get(\"code\", \"\")).upper() == k\n",
        "\n",
        "def _get_station(seeds, key):\n",
        "    \"\"\"Retrieve station record by ID or code.\"\"\"\n",
        "    for s in seeds[\"stations\"]:\n",
        "        if _match_station(s, key):\n",
        "            return s\n",
        "    raise ValueError(f\"Station not found: {key}\")\n",
        "\n",
        "def _station_scale_from_capacity(stations, rec):\n",
        "    \"\"\"Compute station capacity scale relative to the network average.\"\"\"\n",
        "    caps = [r.get(\"capacity_platform\") for r in stations if isinstance(r.get(\"capacity_platform\"), (int, float))]\n",
        "    mean_cap = (sum(caps) / len(caps)) if caps else 1500.0\n",
        "    return float(rec.get(\"capacity_platform\", mean_cap)) / float(mean_cap) if mean_cap > 0 else 1.0\n",
        "\n",
        "def _iso(d):\n",
        "    \"\"\"Normalize date string to ISO format (YYYY-MM-DD) or return None.\"\"\"\n",
        "    try:\n",
        "        return pd.to_datetime(d, errors=\"coerce\").date().isoformat()\n",
        "    except Exception:\n",
        "        return None\n",
        "\n",
        "# ---------- Main function ----------\n",
        "def compute_demand_modifier(ts, station_key, seeds, config):\n",
        "    \"\"\"Compute demand modifier based on date, station, weather, and events (no holidays).\"\"\"\n",
        "\n",
        "    # ---- Basic setup ----\n",
        "    date_str = ts.date().isoformat()\n",
        "    weekday  = ts.weekday()\n",
        "\n",
        "    st = _get_station(seeds, station_key)\n",
        "    station_scale = _station_scale_from_capacity(seeds[\"stations\"], st)\n",
        "\n",
        "    # Weekend adjustment (Fri=4, Sat=5)\n",
        "    weekend_mult = float(config.get(\"multipliers\", {}).get(\"weekend\", 1.0)) if weekday in [4, 5] else 1.0\n",
        "\n",
        "    # Weather adjustment\n",
        "    weather_map = seeds.get(\"weather\", {})\n",
        "    w = weather_map.get(date_str)\n",
        "    if w is None and isinstance(weather_map, dict):\n",
        "        # Normalize weather dictionary keys (e.g., \"9/23/2025\" → \"2025-09-23\")\n",
        "        norm_weather = { _iso(k): v for k, v in weather_map.items() }\n",
        "        w = norm_weather.get(date_str, {\"condition\": \"Sunny\"})\n",
        "    if w is None:\n",
        "        w = {\"condition\": \"Sunny\"}\n",
        "    weather_cond = w.get(\"condition\", \"Sunny\")\n",
        "    weather_mult = float(config.get(\"multipliers\", {}).get(\"weather\", {}).get(weather_cond, 1.0))\n",
        "\n",
        "    # ---- Event modifiers ----\n",
        "    sid   = str(st.get(\"station_id\", \"\")).upper()\n",
        "    scode = str(st.get(\"code\", \"\")).upper()\n",
        "    event_mult = 1.0\n",
        "\n",
        "    for ev in seeds.get(\"events\", []):\n",
        "        ev_date_iso = _iso(ev.get(\"date\"))\n",
        "        if ev_date_iso != date_str:\n",
        "            continue\n",
        "\n",
        "        # Collect all possible station identifiers and split multiple entries\n",
        "        stations_field = (\n",
        "            ev.get(\"stations_impacted\") or ev.get(\"stations\") or\n",
        "            ev.get(\"station_id\") or ev.get(\"station\") or ev.get(\"station_code\") or \"\"\n",
        "        )\n",
        "        tokens = [t.strip().upper() for t in re.split(r\"[;,]\", str(stations_field)) if t.strip()]\n",
        "\n",
        "        # Match current station against any listed in the event\n",
        "        if (sid and sid in tokens) or (scode and scode in tokens):\n",
        "            et = ev.get(\"event_type\", \"Other\")\n",
        "            ev_mult = float(ev.get(\"demand_modifier\", config.get(\"events\", {}).get(et, 1.0)))\n",
        "            event_mult = max(event_mult, ev_mult)  # or *= ev_mult if you want to combine multiple events\n",
        "\n",
        "    # ---- Final computation (no holiday multiplier) ----\n",
        "    final = station_scale * weekend_mult * weather_mult * event_mult\n",
        "\n",
        "    return {\n",
        "        \"station\": scode or sid,\n",
        "        \"date\": date_str,\n",
        "        \"weather\": weather_cond,\n",
        "        \"station_scale\": station_scale,\n",
        "        \"weekend_mult\": weekend_mult,\n",
        "        \"weather_mult\": weather_mult,\n",
        "        \"event_mult\": event_mult,\n",
        "        \"final_demand_modifier\": final\n",
        "    }\n"
      ],
      "metadata": {
        "id": "HFm5fXqrwNPO"
      },
      "execution_count": 8,
      "outputs": []
    },
    {
      "cell_type": "code",
      "source": [
        "from datetime import datetime\n",
        "\n",
        "# Example: compute modifier for KAFD station on National Day\n",
        "ts = datetime(2025, 9, 23, 9, 0)  # time and date\n",
        "station_key = \"KAFD\"               # works with either \"KAFD\" or \"S1\"\n",
        "\n",
        "result = compute_demand_modifier(ts, station_key, seeds, config)\n",
        "result\n"
      ],
      "metadata": {
        "colab": {
          "base_uri": "https://localhost:8080/"
        },
        "id": "g6-UshFgQW_-",
        "outputId": "ff344094-a640-4b20-9445-093db073cbb6"
      },
      "execution_count": 9,
      "outputs": [
        {
          "output_type": "execute_result",
          "data": {
            "text/plain": [
              "{'station': 'KAFD',\n",
              " 'date': '2025-09-23',\n",
              " 'weather': 'Sunny',\n",
              " 'station_scale': 1.5750000000000002,\n",
              " 'weekend_mult': 1.0,\n",
              " 'weather_mult': 1.0,\n",
              " 'event_mult': 1.8,\n",
              " 'final_demand_modifier': 2.8350000000000004}"
            ]
          },
          "metadata": {},
          "execution_count": 9
        }
      ]
    },
    {
      "cell_type": "markdown",
      "source": [],
      "metadata": {
        "id": "z14gpABF1FDl"
      }
    }
  ]
}